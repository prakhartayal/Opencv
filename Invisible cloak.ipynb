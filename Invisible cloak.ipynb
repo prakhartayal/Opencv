{
 "cells": [
  {
   "cell_type": "code",
   "execution_count": 12,
   "metadata": {},
   "outputs": [],
   "source": [
    "import cv2 \n",
    "import numpy as np\n",
    "import time\n",
    "\n",
    "cap=cv2.VideoCapture(1)                     #Capturing from external webcam\n",
    "\n",
    "background=0\n",
    "time.sleep(2)    #to set the camera\n",
    "for i in range(30):\n",
    "    ret,background=cap.read()\n",
    "    \n",
    "    \n",
    "while(cap.isOpened()):\n",
    "    ret,img=cap.read()\n",
    "    if not ret:\n",
    "        print(\"error\")\n",
    "        break\n",
    "    hsv=cv2.cvtColor(img,cv2.COLOR_BGR2HSV)   # converting the frame into hsv\n",
    "    \n",
    "    lower_red=np.array([0,70,80])             #taking lower hsv value for red i.e.(lower angle,saturation,value)\n",
    "    upper_red=np.array([10,255,255])          #taking upper hsv value for red i.e.(lower angle,saturation,value)\n",
    "    mask1=cv2.inRange(hsv,lower_red,upper_red)\n",
    "    \n",
    "    lower_red=np.array([170,70,80])\n",
    "    upper_red=np.array([180,255,255])\n",
    "    mask2=cv2.inRange(hsv,lower_red,upper_red)\n",
    "    \n",
    "    mask1=mask1+mask2\n",
    "    kernel = np.ones((3,3),np.uint8)\n",
    "    mask1=cv2.morphologyEx(mask1,cv2.MORPH_OPEN,kernel,iterations=4)  #to reduce noise\n",
    "    mask1=cv2.morphologyEx(mask1,cv2.MORPH_DILATE,kernel,iterations=1) # to give smoothness\n",
    "    \n",
    "    mask2=cv2.bitwise_not(mask1)\n",
    "    \n",
    "    res1=cv2.bitwise_and(background,background,mask=mask1)\n",
    "    res2=cv2.bitwise_and(img,img,mask=mask2)\n",
    "    final_output=cv2.addWeighted(res1,1,res2,1,0)\n",
    "     \n",
    "    \n",
    "    cv2.imshow(\"video\",final_output)\n",
    "    if(cv2.waitKey(1) & 0xff==ord('q')):\n",
    "        break\n",
    "        \n",
    "cap.release()\n",
    "cv2.destroyAllWindows()"
   ]
  },
  {
   "cell_type": "code",
   "execution_count": null,
   "metadata": {},
   "outputs": [],
   "source": []
  },
  {
   "cell_type": "code",
   "execution_count": null,
   "metadata": {},
   "outputs": [],
   "source": []
  },
  {
   "cell_type": "code",
   "execution_count": null,
   "metadata": {},
   "outputs": [],
   "source": []
  }
 ],
 "metadata": {
  "kernelspec": {
   "display_name": "Python 3",
   "language": "python",
   "name": "python3"
  },
  "language_info": {
   "codemirror_mode": {
    "name": "ipython",
    "version": 3
   },
   "file_extension": ".py",
   "mimetype": "text/x-python",
   "name": "python",
   "nbconvert_exporter": "python",
   "pygments_lexer": "ipython3",
   "version": "3.7.3"
  }
 },
 "nbformat": 4,
 "nbformat_minor": 2
}
